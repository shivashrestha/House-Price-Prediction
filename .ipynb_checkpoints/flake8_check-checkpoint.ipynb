{
 "cells": [
  {
   "cell_type": "code",
   "execution_count": 1,
   "id": "813aaab9-4e74-492c-9916-10340dd2c530",
   "metadata": {},
   "outputs": [],
   "source": [
    "!flake8 --max-line-length=125 house_prices/"
   ]
  },
  {
   "cell_type": "code",
   "execution_count": null,
   "id": "52f36c10-f3e5-4d8b-bcc1-9d8c7e4701de",
   "metadata": {},
   "outputs": [],
   "source": []
  }
 ],
 "metadata": {
  "kernelspec": {
   "display_name": "Python 3 (ipykernel)",
   "language": "python",
   "name": "python3"
  },
  "language_info": {
   "codemirror_mode": {
    "name": "ipython",
    "version": 3
   },
   "file_extension": ".py",
   "mimetype": "text/x-python",
   "name": "python",
   "nbconvert_exporter": "python",
   "pygments_lexer": "ipython3",
   "version": "3.12.4"
  }
 },
 "nbformat": 4,
 "nbformat_minor": 5
}
