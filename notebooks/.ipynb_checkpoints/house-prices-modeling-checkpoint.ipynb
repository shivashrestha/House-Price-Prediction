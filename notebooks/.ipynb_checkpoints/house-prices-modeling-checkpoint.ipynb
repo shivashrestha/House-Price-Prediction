{
 "cells": [
  {
   "cell_type": "markdown",
   "id": "79119310",
   "metadata": {},
   "source": [
    "# Import library and Load data"
   ]
  },
  {
   "cell_type": "code",
   "execution_count": 1,
   "id": "ab1a9eda",
   "metadata": {},
   "outputs": [
    {
     "name": "stdout",
     "output_type": "stream",
     "text": [
      "Datasets shape (1460, 81)\n",
      "   Id  MSSubClass MSZoning  LotFrontage  LotArea Street Alley LotShape  \\\n",
      "0   1          60       RL         65.0     8450   Pave   NaN      Reg   \n",
      "1   2          20       RL         80.0     9600   Pave   NaN      Reg   \n",
      "2   3          60       RL         68.0    11250   Pave   NaN      IR1   \n",
      "3   4          70       RL         60.0     9550   Pave   NaN      IR1   \n",
      "4   5          60       RL         84.0    14260   Pave   NaN      IR1   \n",
      "5   6          50       RL         85.0    14115   Pave   NaN      IR1   \n",
      "6   7          20       RL         75.0    10084   Pave   NaN      Reg   \n",
      "7   8          60       RL          NaN    10382   Pave   NaN      IR1   \n",
      "8   9          50       RM         51.0     6120   Pave   NaN      Reg   \n",
      "9  10         190       RL         50.0     7420   Pave   NaN      Reg   \n",
      "\n",
      "  LandContour Utilities  ... PoolArea PoolQC  Fence MiscFeature MiscVal  \\\n",
      "0         Lvl    AllPub  ...        0    NaN    NaN         NaN       0   \n",
      "1         Lvl    AllPub  ...        0    NaN    NaN         NaN       0   \n",
      "2         Lvl    AllPub  ...        0    NaN    NaN         NaN       0   \n",
      "3         Lvl    AllPub  ...        0    NaN    NaN         NaN       0   \n",
      "4         Lvl    AllPub  ...        0    NaN    NaN         NaN       0   \n",
      "5         Lvl    AllPub  ...        0    NaN  MnPrv        Shed     700   \n",
      "6         Lvl    AllPub  ...        0    NaN    NaN         NaN       0   \n",
      "7         Lvl    AllPub  ...        0    NaN    NaN        Shed     350   \n",
      "8         Lvl    AllPub  ...        0    NaN    NaN         NaN       0   \n",
      "9         Lvl    AllPub  ...        0    NaN    NaN         NaN       0   \n",
      "\n",
      "  MoSold YrSold  SaleType  SaleCondition  SalePrice  \n",
      "0      2   2008        WD         Normal     208500  \n",
      "1      5   2007        WD         Normal     181500  \n",
      "2      9   2008        WD         Normal     223500  \n",
      "3      2   2006        WD        Abnorml     140000  \n",
      "4     12   2008        WD         Normal     250000  \n",
      "5     10   2009        WD         Normal     143000  \n",
      "6      8   2007        WD         Normal     307000  \n",
      "7     11   2009        WD         Normal     200000  \n",
      "8      4   2008        WD        Abnorml     129900  \n",
      "9      1   2008        WD         Normal     118000  \n",
      "\n",
      "[10 rows x 81 columns]\n"
     ]
    }
   ],
   "source": [
    "import pandas as pd\n",
    "\n",
    "from sklearn.preprocessing import StandardScaler, OneHotEncoder\n",
    "from sklearn.model_selection import train_test_split\n",
    "from sklearn.linear_model import LinearRegression\n",
    "from sklearn.metrics import mean_squared_error\n",
    "\n",
    "import numpy as np\n",
    "\n",
    "\n",
    "file_path = \"../data/train.csv\"\n",
    "dataset = pd.read_csv(file_path)\n",
    "print(\"Datasets shape {}\".format(dataset.shape))\n",
    "\n",
    "# display data entries\n",
    "print(dataset.head(10))"
   ]
  },
  {
   "cell_type": "markdown",
   "id": "51d0c6d2",
   "metadata": {},
   "source": [
    "# Feature selection"
   ]
  },
  {
   "cell_type": "code",
   "execution_count": 2,
   "id": "9799c83f",
   "metadata": {},
   "outputs": [
    {
     "name": "stdout",
     "output_type": "stream",
     "text": [
      "      LotArea  YearBuilt  1stFlrSF  GrLivArea Neighborhood HouseStyle  \\\n",
      "0        8450       2003       856       1710      CollgCr     2Story   \n",
      "1        9600       1976      1262       1262      Veenker     1Story   \n",
      "2       11250       2001       920       1786      CollgCr     2Story   \n",
      "3        9550       1915       961       1717      Crawfor     2Story   \n",
      "4       14260       2000      1145       2198      NoRidge     2Story   \n",
      "...       ...        ...       ...        ...          ...        ...   \n",
      "1455     7917       1999       953       1647      Gilbert     2Story   \n",
      "1456    13175       1978      2073       2073       NWAmes     1Story   \n",
      "1457     9042       1941      1188       2340      Crawfor     2Story   \n",
      "1458     9717       1950      1078       1078        NAmes     1Story   \n",
      "1459     9937       1965      1256       1256      Edwards     1Story   \n",
      "\n",
      "      OverallQual  OverallCond  \n",
      "0               7            5  \n",
      "1               6            8  \n",
      "2               7            5  \n",
      "3               7            5  \n",
      "4               8            5  \n",
      "...           ...          ...  \n",
      "1455            6            5  \n",
      "1456            6            6  \n",
      "1457            7            9  \n",
      "1458            5            6  \n",
      "1459            5            6  \n",
      "\n",
      "[1460 rows x 8 columns] 0       208500\n",
      "1       181500\n",
      "2       223500\n",
      "3       140000\n",
      "4       250000\n",
      "         ...  \n",
      "1455    175000\n",
      "1456    210000\n",
      "1457    266500\n",
      "1458    142125\n",
      "1459    147500\n",
      "Name: SalePrice, Length: 1460, dtype: int64\n"
     ]
    }
   ],
   "source": [
    "#Continuous features\n",
    "continuous_features = ['LotArea', 'YearBuilt', '1stFlrSF', 'GrLivArea']\n",
    "\n",
    "#categorical features\n",
    "categorical_features = ['Neighborhood', 'HouseStyle', 'OverallQual', 'OverallCond']\n",
    "\n",
    "#Targeted value\n",
    "targeted = 'SalePrice'\n",
    "\n",
    "\n",
    "# Total features extracted from dataset\n",
    "features = dataset[continuous_features + categorical_features]\n",
    "target = dataset [targeted] \n",
    "print(features, target)"
   ]
  },
  {
   "cell_type": "markdown",
   "id": "5fb690a1",
   "metadata": {},
   "source": [
    "# Feature processing"
   ]
  },
  {
   "cell_type": "code",
   "execution_count": 3,
   "id": "c38211cb",
   "metadata": {},
   "outputs": [],
   "source": [
    "# Initializing the scalers and encoders\n",
    "scaler = StandardScaler()\n",
    "encoder = OneHotEncoder(drop='first', sparse_output=False)\n",
    "\n",
    "# Scaling of continuous features\n",
    "X_continuous_scaled = scaler.fit_transform(features[continuous_features])\n",
    "\n",
    "# Encode of categorical features\n",
    "X_categorical_encoded = encoder.fit_transform(features[categorical_features])\n",
    "\n",
    "# Combine the preprocessed features\n",
    "X_preprocessed = np.hstack((X_continuous_scaled, X_categorical_encoded))"
   ]
  },
  {
   "cell_type": "markdown",
   "id": "09f42296",
   "metadata": {},
   "source": [
    "# Model training"
   ]
  },
  {
   "cell_type": "code",
   "execution_count": 4,
   "id": "6ff5ce9a",
   "metadata": {},
   "outputs": [],
   "source": [
    "# Split the data into training and testing sets\n",
    "X_train, X_test, y_train, y_test = train_test_split(X_preprocessed, target, test_size=0.2, random_state=42)\n",
    "\n",
    "# Initialize and train the model\n",
    "model = LinearRegression()\n",
    "model.fit(X_train, y_train)\n",
    "\n",
    "# Make predictions\n",
    "y_pred_train = model.predict(X_train)\n",
    "y_pred_test = model.predict(X_test)"
   ]
  },
  {
   "cell_type": "markdown",
   "id": "c86f42f7",
   "metadata": {},
   "source": [
    "# Model evaluation with the competition metric"
   ]
  },
  {
   "cell_type": "code",
   "execution_count": 5,
   "id": "3110b4ba",
   "metadata": {},
   "outputs": [
    {
     "name": "stdout",
     "output_type": "stream",
     "text": [
      "Training RMSLE: 31129.0\n",
      "Testing RMSLE: 33021.17\n"
     ]
    }
   ],
   "source": [
    "# Define the function for Root-Mean-Squared-Error (RMSE) between the logarithm of the predicted value   \n",
    "#and the logarithm of the observed sales price\n",
    "def compute_rmsle(y_test: np.ndarray, y_pred: np.ndarray, precision: int = 2) -> float:\n",
    "    rmsle = np.sqrt(mean_squared_error(y_test, y_pred))\n",
    "    return round(rmsle, precision)\n",
    "\n",
    "# Calculate the RMSLE for training and testing sets\n",
    "rmsle_train = compute_rmsle(y_train, y_pred_train)\n",
    "rmsle_test = compute_rmsle(y_test, y_pred_test)\n",
    "\n",
    "print(f'Training RMSLE: {rmsle_train}')\n",
    "print(f'Testing RMSLE: {rmsle_test}')"
   ]
  },
  {
   "cell_type": "markdown",
   "id": "b95f073d",
   "metadata": {},
   "source": [
    "# Predicting and preprocessing for new data \n",
    "## For extra learning purpose"
   ]
  },
  {
   "cell_type": "code",
   "execution_count": 6,
   "id": "22be8bcb",
   "metadata": {},
   "outputs": [],
   "source": [
    "def preprocess_new_data(new_data, scaler, encoder):\n",
    "    # Scale continuous features\n",
    "    X_continuous_new = new_data[continuous_features]\n",
    "    X_continuous_new_scaled = scaler.transform(X_continuous_new)\n",
    "    \n",
    "    # Encode categorical features\n",
    "    X_categorical_new = new_data[categorical_features]\n",
    "    X_categorical_new_encoded = encoder.transform(X_categorical_new)\n",
    "    \n",
    "    # Combine the preprocessed features\n",
    "    X_new_preprocessed = np.hstack((X_continuous_new_scaled, X_categorical_new_encoded))\n",
    "    \n",
    "    return X_new_preprocessed"
   ]
  },
  {
   "cell_type": "markdown",
   "id": "fe8e0966",
   "metadata": {},
   "source": [
    "# Prediction\n",
    "## For extra learning purpose"
   ]
  },
  {
   "cell_type": "code",
   "execution_count": 7,
   "id": "d849e841",
   "metadata": {},
   "outputs": [
    {
     "name": "stdout",
     "output_type": "stream",
     "text": [
      "Predicted SalePrices of top 20 rows : [125643.57605073 160259.27521063 167255.01649982 185958.02930398\n",
      " 255893.74782837 175591.11688235 182344.47785411 163784.50833663\n",
      " 185864.72808295 114162.95178562 179671.00847072  91659.48121201\n",
      "  89357.43433576 150378.49511674 147591.71206877 371914.37847459\n",
      " 278998.79561543 350168.25881926 293846.36213854 409498.43120888]\n"
     ]
    }
   ],
   "source": [
    "# Taking test.csv data to predict the SalePrice of first top 20\n",
    "test_data = pd.read_csv('../data/test.csv')\n",
    "test_data_top20 = test_data.head(20)\n",
    "\n",
    "# Preprocess the test data\n",
    "X_new_preprocessed_top20 = preprocess_new_data(test_data_top20, scaler, encoder)\n",
    "\n",
    "# Predict SalePrice for the top 20 rows\n",
    "y_pred_new_top20 = model.predict(X_new_preprocessed_top20)\n",
    "\n",
    "\n",
    "print(f'Predicted SalePrices of top 20 rows : {y_pred_new_top20}')"
   ]
  },
  {
   "cell_type": "code",
   "execution_count": null,
   "id": "09f6bdd3",
   "metadata": {},
   "outputs": [],
   "source": []
  }
 ],
 "metadata": {
  "kernelspec": {
   "display_name": "Python 3 (ipykernel)",
   "language": "python",
   "name": "python3"
  },
  "language_info": {
   "codemirror_mode": {
    "name": "ipython",
    "version": 3
   },
   "file_extension": ".py",
   "mimetype": "text/x-python",
   "name": "python",
   "nbconvert_exporter": "python",
   "pygments_lexer": "ipython3",
   "version": "3.11.5"
  }
 },
 "nbformat": 4,
 "nbformat_minor": 5
}
